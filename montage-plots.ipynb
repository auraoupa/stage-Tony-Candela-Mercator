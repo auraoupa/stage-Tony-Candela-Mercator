{
 "cells": [
  {
   "cell_type": "code",
   "execution_count": null,
   "metadata": {},
   "outputs": [],
   "source": [
    "convert -delay 120 -loop 0 plots/NATL60_plots_small_scale_vorticity_variance_y201*m*.png plots/NATL60_plots_small_scale_vorticity_variance.gif\n",
    "convert -delay 120 -loop 0 plots/GLORYS12V1_plots_small_scale_vorticity_variance_y2017m*.png plots/GLORYS12V1_plots_small_scale_vorticity_variance_y2017.gif\n",
    "convert -delay 120 -loop 0 plots/GLORYS2V4_plots_small_scale_vorticity_variance_y2017m*.png plots/GLORYS2V4_plots_small_scale_vorticity_variance_y2017.gif\n",
    "montage plots/NATL60_plots_small_scale_vorticity_variance_y2013m03.png plots/NATL60_plots_small_scale_vorticity_variance_y2013m09.png  plots/GLORYS12V1_plots_small_scale_vorticity_variance_y2017m03.png plots/GLORYS12V1_plots_small_scale_vorticity_variance_y2017m09.png plots/GLORYS12V1_plots_small_scale_vorticity_variance_y2017m03.png plots/GLORYS2V4_plots_small_scale_vorticity_variance_y2017m09.png -geometry 2048x1024 -tile 2x3 -quality 100 fine_scale_vorticity_variance_NATL60-GLORYS12V1-GLORYS2V4.png\n",
    "\n",
    "convert fine_scale_vorticity_variance_NATL60-GLORYS12V1-GLORYS2V4.png -trim -bordercolor White -border 20x10 +repage fine_scale_vorticity_variance_NATL60-GLORYS12V1-GLORYS2V4.png\n",
    "\n",
    "\n",
    "\n",
    "\n"
   ]
  }
 ],
 "metadata": {
  "kernelspec": {
   "display_name": "Python 2",
   "language": "python",
   "name": "python2"
  },
  "language_info": {
   "codemirror_mode": {
    "name": "ipython",
    "version": 2
   },
   "file_extension": ".py",
   "mimetype": "text/x-python",
   "name": "python",
   "nbconvert_exporter": "python",
   "pygments_lexer": "ipython2",
   "version": "2.7.16"
  }
 },
 "nbformat": 4,
 "nbformat_minor": 2
}
