{
 "cells": [
  {
   "cell_type": "code",
   "execution_count": 11,
   "metadata": {},
   "outputs": [],
   "source": [
    "## imports\n",
    "\n",
    "import numpy as np\n",
    "import numpy.ma as ma\n",
    "import xarray as xr\n",
    "\n",
    "import sys\n",
    "sys.path.insert(0,\"/Users/auraoupa/Work/git/lupa/vorticity-variance\")\n",
    "import GriddedData\n",
    "\n",
    "import matplotlib.pyplot as plt\n",
    "\n",
    "# palette\n",
    "import matplotlib.cm as mplcm\n",
    "\n",
    "seq_cmap = mplcm.Blues\n",
    "div_cmap = mplcm.seismic\n",
    "\n",
    "import glob"
   ]
  },
  {
   "cell_type": "code",
   "execution_count": 12,
   "metadata": {},
   "outputs": [],
   "source": [
    "## Dataset\n",
    "\n",
    "dir=\"/Users/auraoupa/Data/GLORYS2V4/2017/\"\n",
    "\n"
   ]
  },
  {
   "cell_type": "code",
   "execution_count": 13,
   "metadata": {},
   "outputs": [],
   "source": [
    "def compute_average_fine_scale_variance(files):\n",
    "    ''' from a list of files containing one month of data compute variance and average in 1°x1°x1 month boxes\n",
    "    '''\n",
    "    hpcurl = xr.open_mfdataset(files,concat_dim='time_counter',decode_times=False)['socurloverf_filt']\n",
    "    navlat = xr.open_mfdataset(files,concat_dim='time_counter',decode_times=False)['nav_lat'][0]\n",
    "    navlon = xr.open_mfdataset(files,concat_dim='time_counter',decode_times=False)['nav_lon'][0]\n",
    "    hpcurl2 = hpcurl ** 2\n",
    "    hpcurl2m = hpcurl2.mean(axis=0,keep_attrs=True)\n",
    "    navlat2=np.array(navlat).squeeze()\n",
    "    navlon2=np.array(navlon).squeeze()\n",
    "    mgrd = GriddedData.grid2D(navlat=navlat2, navlon=navlon2)\n",
    "    crs = GriddedData.grdCoarsener(mgrd,crs_factor=4)\n",
    "    hpcurl2mc = crs.return_ravel(np.asarray(hpcurl2m))\n",
    "    hpcurl2mcm = np.mean(hpcurl2mc,axis=-3)\n",
    "    latcrs=crs.return_ravel(np.asarray(navlat2))\n",
    "    loncrs=crs.return_ravel(np.asarray(navlon2))\n",
    "    latcrsm=np.mean(latcrs,axis=-3)\n",
    "    loncrsm=np.mean(loncrs,axis=-3)\n",
    "    return loncrsm,latcrsm,hpcurl2mcm,hpcurl2m\n",
    "\n"
   ]
  },
  {
   "cell_type": "code",
   "execution_count": 14,
   "metadata": {
    "scrolled": true
   },
   "outputs": [],
   "source": [
    "def compute_and_save(month):\n",
    "    mm=str(month).zfill(2)\n",
    "    filt_files_month=mm+\"/GLORYS2V4NATL_1dAV_2017\"+mm+\"*_curloverf_filt-n4-f0.25.nc\"\n",
    "    tf_files_month=dir+filt_files_month\n",
    "    loncrsm, latcrsm, boxvarcurl, hpvarm=compute_average_fine_scale_variance(tf_files_month)\n",
    "    fine_scale_variance = xr.DataArray(boxvarcurl,dims=['xcrsm','ycrsm'],name=\"vort_var_boxcar\")\n",
    "    lat_crsm = xr.DataArray(latcrsm,dims=['xcrsm','ycrsm'],name=\"latcrsm\")\n",
    "    lon_crsm = xr.DataArray(loncrsm,dims=['xcrsm','ycrsm'],name=\"loncrsm\")\n",
    "    fine_scale_variance.to_dataset().to_netcdf(path=dir+'/fine_scale_vorticity_variance_boxaverage_natl_y2017m'+str(mm)+'.nc',mode='w',engine='scipy')\n",
    "    lat_crsm.to_dataset().to_netcdf(path=dir+'/fine_scale_vorticity_variance_boxaverage_natl_y2017m'+str(mm)+'.nc',mode='a',engine='scipy')\n",
    "    lon_crsm.to_dataset().to_netcdf(path=dir+'/fine_scale_vorticity_variance_boxaverage_natl_y2017m'+str(mm)+'.nc',mode='a',engine='scipy')\n",
    "\n"
   ]
  },
  {
   "cell_type": "code",
   "execution_count": 16,
   "metadata": {},
   "outputs": [],
   "source": [
    "compute_and_save(1)"
   ]
  },
  {
   "cell_type": "code",
   "execution_count": 19,
   "metadata": {},
   "outputs": [
    {
     "name": "stdout",
     "output_type": "stream",
     "text": [
      "1\n",
      "2\n",
      "3\n",
      "4\n",
      "5\n",
      "6\n",
      "7\n",
      "8\n",
      "9\n",
      "10\n",
      "11\n",
      "12\n"
     ]
    }
   ],
   "source": [
    "for m in np.arange(1,13):\n",
    "    print m\n",
    "    compute_and_save(m)"
   ]
  },
  {
   "cell_type": "code",
   "execution_count": null,
   "metadata": {},
   "outputs": [],
   "source": []
  }
 ],
 "metadata": {
  "kernelspec": {
   "display_name": "lupa",
   "language": "python",
   "name": "lupa"
  },
  "language_info": {
   "codemirror_mode": {
    "name": "ipython",
    "version": 2
   },
   "file_extension": ".py",
   "mimetype": "text/x-python",
   "name": "python",
   "nbconvert_exporter": "python",
   "pygments_lexer": "ipython2",
   "version": "2.7.16"
  }
 },
 "nbformat": 4,
 "nbformat_minor": 2
}
