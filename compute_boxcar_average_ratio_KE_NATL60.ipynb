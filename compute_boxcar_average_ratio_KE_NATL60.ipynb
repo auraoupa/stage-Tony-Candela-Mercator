{
 "cells": [
  {
   "cell_type": "code",
   "execution_count": 6,
   "metadata": {},
   "outputs": [],
   "source": [
    "## imports\n",
    "\n",
    "import numpy as np\n",
    "import numpy.ma as ma\n",
    "import xarray as xr\n",
    "\n",
    "import sys\n",
    "sys.path.insert(0,\"/home/alberta/Work/git/lupa/vorticity-variance\")\n",
    "import GriddedData\n",
    "\n",
    "import matplotlib.pyplot as plt\n",
    "\n",
    "# palette\n",
    "import matplotlib.cm as mplcm\n",
    "\n",
    "seq_cmap = mplcm.Blues\n",
    "div_cmap = mplcm.seismic\n",
    "\n",
    "import glob"
   ]
  },
  {
   "cell_type": "code",
   "execution_count": 7,
   "metadata": {},
   "outputs": [],
   "source": [
    "## Dataset\n",
    "\n",
    "dir=\"/media/extra/DATA/NATL60/NATL60-CJM165-S/EKE/\"\n",
    "dirin=\"/media/extra/DATA/NATL60/NATL60-I/\"\n"
   ]
  },
  {
   "cell_type": "code",
   "execution_count": 8,
   "metadata": {},
   "outputs": [
    {
     "name": "stdout",
     "output_type": "stream",
     "text": [
      "/media/extra/DATA/NATL60/NATL60-I/NATL60_v4.1_cdf_byte_mask.nc\r\n"
     ]
    }
   ],
   "source": [
    "gridfile=dirin+\"NATL60_v4.1_cdf_byte_mask.nc\"\n",
    "!ls $gridfile\n",
    "grid=xr.open_dataset(gridfile)\n",
    "navlat= grid['nav_lat']\n",
    "navlon= grid['nav_lon']\n",
    "tmask='NATL60-CJM165.1d_mask_surf_filt-n80-f0.0125.nc'\n",
    "mask_filt=np.squeeze(xr.open_dataset(dirin+tmask)['tmask'])\n"
   ]
  },
  {
   "cell_type": "code",
   "execution_count": 9,
   "metadata": {},
   "outputs": [],
   "source": [
    "def compute_average_ratio_KE(file_KES,file_KEL):\n",
    "    ''' from a list of files containing one month of data compute variance and average in 1°x1°x1 month boxes\n",
    "    '''\n",
    "    data1 = xr.open_dataset(file_KES)['vomke']\n",
    "    data2 = xr.open_dataset(file_KEL)['vomke']\n",
    "    navlat2=np.array(navlat).squeeze()\n",
    "    navlon2=np.array(navlon).squeeze()\n",
    "    mgrd = GriddedData.grid2D(navlat=navlat2, navlon=navlon2)\n",
    "    crs = GriddedData.grdCoarsener(mgrd,crs_factor=60)\n",
    "    data1_mask=np.zeros(data1.shape)\n",
    "    data2_mask=np.zeros(data2.shape)\n",
    "    for tt in np.arange(data1_mask.shape[0]):\n",
    "        truc=np.squeeze(data1[0,:,:].values)        \n",
    "        truc[np.where(mask_filt!=1)]=np.nan\n",
    "        data1_mask[tt,:,:]=truc[:,:]   \n",
    "        truc=np.squeeze(data2[0,:,:].values)        \n",
    "        truc[np.where(mask_filt!=1)]=np.nan\n",
    "        data2_mask[tt,:,:]=truc[:,:]   \n",
    "\n",
    "    data1m=np.nanmean(data1_mask,axis=0)\n",
    "    data1c = crs.return_ravel(np.asarray(data1m))\n",
    "    data1cm = np.nanmedian(data1c,axis=-3)\n",
    "\n",
    "    data2m=np.nanmean(data2_mask,axis=0)\n",
    "    data2c = crs.return_ravel(np.asarray(data2m))\n",
    "    data2cm = np.nanmedian(data2c,axis=-3)\n",
    "\n",
    "    ratio=data1cm/data2cm\n",
    "    \n",
    "    latcrs=crs.return_ravel(np.asarray(navlat2))\n",
    "    loncrs=crs.return_ravel(np.asarray(navlon2))\n",
    "    latcrsm=np.mean(latcrs,axis=-3)\n",
    "    loncrsm=np.mean(loncrs,axis=-3)\n",
    "\n",
    "    return loncrsm,latcrsm,ratio\n",
    " "
   ]
  },
  {
   "cell_type": "code",
   "execution_count": 17,
   "metadata": {},
   "outputs": [],
   "source": [
    "def compute_and_save(month):\n",
    "    mm=str(month).zfill(2)\n",
    "    if month < 10:\n",
    "        year=2013\n",
    "    else:\n",
    "        year=2012\n",
    "    filt_files_month_KES='NATL60-CJM165_y'+str(year)+'m'+str(mm)+'.1m_KES.nc'\n",
    "    filt_files_month_KEL='NATL60-CJM165_y'+str(year)+'m'+str(mm)+'.1m_KEL.nc'\n",
    "    tf_files_month_KES=dir+filt_files_month_KES\n",
    "    tf_files_month_KEL=dir+filt_files_month_KEL\n",
    "    loncrsm, latcrsm, ratio=compute_average_ratio_KE(tf_files_month_KES,tf_files_month_KEL)\n",
    "    ratio_da = xr.DataArray(ratio,dims=['xcrsm','ycrsm'],name=\"ratio_KE_boxcar\")\n",
    "    lat_crsm = xr.DataArray(latcrsm,dims=['xcrsm','ycrsm'],name=\"latcrsm\")\n",
    "    lon_crsm = xr.DataArray(loncrsm,dims=['xcrsm','ycrsm'],name=\"loncrsm\")\n",
    "    ratio_da.to_dataset().to_netcdf(path=dir+'/ratio_KE_boxaverage_y'+str(year)+'m'+str(mm)+'.nc',mode='w',engine='scipy')\n",
    "    lat_crsm.to_dataset().to_netcdf(path=dir+'/ratio_KE_boxaverage_y'+str(year)+'m'+str(mm)+'.nc',mode='a',engine='scipy')\n",
    "    lon_crsm.to_dataset().to_netcdf(path=dir+'/ratio_KE_boxaverage_y'+str(year)+'m'+str(mm)+'.nc',mode='a',engine='scipy')\n"
   ]
  },
  {
   "cell_type": "code",
   "execution_count": 18,
   "metadata": {},
   "outputs": [
    {
     "name": "stdout",
     "output_type": "stream",
     "text": [
      "1\n",
      "2\n",
      "3\n",
      "4\n",
      "5\n",
      "6\n",
      "7\n",
      "8\n",
      "9\n",
      "10\n",
      "11\n",
      "12\n"
     ]
    }
   ],
   "source": [
    "for m in np.arange(1,13):\n",
    "    print m\n",
    "    compute_and_save(m)"
   ]
  }
 ],
 "metadata": {
  "kernelspec": {
   "display_name": "lupa",
   "language": "python",
   "name": "lupa"
  },
  "language_info": {
   "codemirror_mode": {
    "name": "ipython",
    "version": 2
   },
   "file_extension": ".py",
   "mimetype": "text/x-python",
   "name": "python",
   "nbconvert_exporter": "python",
   "pygments_lexer": "ipython2",
   "version": "2.7.16"
  }
 },
 "nbformat": 4,
 "nbformat_minor": 2
}
