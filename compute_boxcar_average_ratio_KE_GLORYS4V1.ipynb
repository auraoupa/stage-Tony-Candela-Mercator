{
 "cells": [
  {
   "cell_type": "code",
   "execution_count": 1,
   "metadata": {},
   "outputs": [],
   "source": [
    "## imports\n",
    "\n",
    "import numpy as np\n",
    "import numpy.ma as ma\n",
    "import xarray as xr\n",
    "\n",
    "import sys\n",
    "sys.path.insert(0,\"/home/alberta/Work/git/lupa/ratio-kinetic-energy\")\n",
    "import GriddedData\n",
    "\n",
    "import matplotlib.pyplot as plt\n",
    "\n",
    "# palette\n",
    "import matplotlib.cm as mplcm\n",
    "\n",
    "seq_cmap = mplcm.Blues\n",
    "div_cmap = mplcm.seismic\n",
    "\n",
    "import glob"
   ]
  },
  {
   "cell_type": "code",
   "execution_count": 2,
   "metadata": {},
   "outputs": [],
   "source": [
    "## Dataset\n",
    "\n",
    "dir=\"/mnt/alberta/equipes/IGE/meom/workdir/albert/GLORYS4V1/\"\n"
   ]
  },
  {
   "cell_type": "code",
   "execution_count": 3,
   "metadata": {},
   "outputs": [],
   "source": [
    "def compute_average_ratio_KE(file_KES,file_KEL):\n",
    "    ''' from a list of files containing one month of data compute variance and average in 1°x1°x1 month boxes\n",
    "    '''\n",
    "    data1 = xr.open_dataset(file_KES)['vomke']\n",
    "    data2 = xr.open_dataset(file_KEL)['vomke']\n",
    "    navlat = xr.open_dataset(file_KES)['nav_lat']\n",
    "    navlon = xr.open_dataset(file_KES)['nav_lon']\n",
    "    navlat2=np.array(navlat).squeeze()\n",
    "    navlon2=np.array(navlon).squeeze()\n",
    "    mgrd = GriddedData.grid2D(navlat=navlat2, navlon=navlon2)\n",
    "    crs = GriddedData.grdCoarsener(mgrd,crs_factor=4)\n",
    "#    data1_mask=np.zeros(data1.shape)\n",
    "#    data2_mask=np.zeros(data2.shape)\n",
    "#    for tt in np.arange(data1_mask.shape[0]):\n",
    "#        truc=np.squeeze(data1[0,:,:].values)        \n",
    "#        truc[np.where(mask_filt!=1)]=np.nan\n",
    "#        data1_mask[tt,:,:]=truc[:,:]   \n",
    "#        truc=np.squeeze(data2[0,:,:].values)        \n",
    "#        truc[np.where(mask_filt!=1)]=np.nan\n",
    "#        data2_mask[tt,:,:]=truc[:,:]   \n",
    "\n",
    "    data1m=np.nanmean(data1,axis=0)\n",
    "    data1c = crs.return_ravel(np.asarray(data1m))\n",
    "    data1cm = np.nanmedian(data1c,axis=-3)\n",
    "\n",
    "    data2m=np.nanmean(data2,axis=0)\n",
    "    data2c = crs.return_ravel(np.asarray(data2m))\n",
    "    data2cm = np.nanmedian(data2c,axis=-3)\n",
    "\n",
    "    ratio=data1cm/data2cm\n",
    "    \n",
    "    latcrs=crs.return_ravel(np.asarray(navlat2))\n",
    "    loncrs=crs.return_ravel(np.asarray(navlon2))\n",
    "    latcrsm=np.mean(latcrs,axis=-3)\n",
    "    loncrsm=np.mean(loncrs,axis=-3)\n",
    "\n",
    "    return loncrsm,latcrsm,ratio\n",
    " "
   ]
  },
  {
   "cell_type": "code",
   "execution_count": 4,
   "metadata": {},
   "outputs": [],
   "source": [
    "def compute_and_save(month):\n",
    "    mm=str(month).zfill(2)\n",
    "    if month < 10:\n",
    "        year=2013\n",
    "    else:\n",
    "        year=2012\n",
    "    filt_files_month_KES='GLORYS4V1NATL_1dAV_'+str(year)+str(mm)+'_KES.nc'\n",
    "    filt_files_month_KEL='GLORYS4V1NATL_1dAV_'+str(year)+str(mm)+'_KEL.nc'\n",
    "    tf_files_month_KES=dir+filt_files_month_KES\n",
    "    tf_files_month_KEL=dir+filt_files_month_KEL\n",
    "    loncrsm, latcrsm, ratio=compute_average_ratio_KE(tf_files_month_KES,tf_files_month_KEL)\n",
    "    ratio_da = xr.DataArray(ratio,dims=['xcrsm','ycrsm'],name=\"ratio_KE_boxcar\")\n",
    "    lat_crsm = xr.DataArray(latcrsm,dims=['xcrsm','ycrsm'],name=\"latcrsm\")\n",
    "    lon_crsm = xr.DataArray(loncrsm,dims=['xcrsm','ycrsm'],name=\"loncrsm\")\n",
    "    ratio_da.to_dataset().to_netcdf(path=dir+'/ratio_KE_boxaverage_y'+str(year)+'m'+str(mm)+'.nc',mode='w',engine='scipy')\n",
    "    lat_crsm.to_dataset().to_netcdf(path=dir+'/ratio_KE_boxaverage_y'+str(year)+'m'+str(mm)+'.nc',mode='a',engine='scipy')\n",
    "    lon_crsm.to_dataset().to_netcdf(path=dir+'/ratio_KE_boxaverage_y'+str(year)+'m'+str(mm)+'.nc',mode='a',engine='scipy')\n"
   ]
  },
  {
   "cell_type": "code",
   "execution_count": 5,
   "metadata": {},
   "outputs": [
    {
     "name": "stderr",
     "output_type": "stream",
     "text": [
      "/home/alberta/anaconda2/envs/lupa/lib/python2.7/site-packages/numpy/lib/nanfunctions.py:703: RuntimeWarning: Mean of empty slice\n",
      "  warnings.warn(\"Mean of empty slice\", RuntimeWarning)\n",
      "/home/alberta/anaconda2/envs/lupa/lib/python2.7/site-packages/numpy/lib/nanfunctions.py:769: RuntimeWarning: All-NaN slice encountered\n",
      "  warnings.warn(\"All-NaN slice encountered\", RuntimeWarning)\n"
     ]
    }
   ],
   "source": [
    "compute_and_save(3)"
   ]
  },
  {
   "cell_type": "code",
   "execution_count": 6,
   "metadata": {},
   "outputs": [],
   "source": [
    "compute_and_save(9)"
   ]
  },
  {
   "cell_type": "code",
   "execution_count": null,
   "metadata": {},
   "outputs": [],
   "source": []
  }
 ],
 "metadata": {
  "kernelspec": {
   "display_name": "lupa",
   "language": "python",
   "name": "lupa"
  },
  "language_info": {
   "codemirror_mode": {
    "name": "ipython",
    "version": 2
   },
   "file_extension": ".py",
   "mimetype": "text/x-python",
   "name": "python",
   "nbconvert_exporter": "python",
   "pygments_lexer": "ipython2",
   "version": "2.7.16"
  }
 },
 "nbformat": 4,
 "nbformat_minor": 2
}
